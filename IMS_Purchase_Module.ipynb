{
  "nbformat": 4,
  "nbformat_minor": 0,
  "metadata": {
    "colab": {
      "name": "IMS Purchase Module.ipynb",
      "provenance": [],
      "collapsed_sections": [],
      "authorship_tag": "ABX9TyOfMWzlAwoxGdl0PKA/fcDm",
      "include_colab_link": true
    },
    "kernelspec": {
      "name": "python3",
      "display_name": "Python 3"
    },
    "language_info": {
      "name": "python"
    }
  },
  "cells": [
    {
      "cell_type": "markdown",
      "metadata": {
        "id": "view-in-github",
        "colab_type": "text"
      },
      "source": [
        "<a href=\"https://colab.research.google.com/github/Vinayak899/Inventory-Management-System-ETG/blob/main/IMS_Purchase_Module.ipynb\" target=\"_parent\"><img src=\"https://colab.research.google.com/assets/colab-badge.svg\" alt=\"Open In Colab\"/></a>"
      ]
    },
    {
      "cell_type": "code",
      "metadata": {
        "id": "Klc24ruIlmhl"
      },
      "source": [
        "import json \n",
        "pc=open(\"record.json\",\"r\")\n",
        "r=pc.read()\n",
        "record=json.loads(r)\n",
        "pc.close()\n",
        "fd=open(\"sales.json\",\"r\")\n",
        "r1=fd.read()\n",
        "sales=json.loads(r1)\n",
        "fd.close()"
      ],
      "execution_count": null,
      "outputs": []
    },
    {
      "cell_type": "markdown",
      "metadata": {
        "id": "lEEIxELI6GNa"
      },
      "source": [
        "Sir, this is the purchase module for the inventory management system. I tried to add the functionality of user being able to purchase more than one items at a time and I was successful in that but I don't know while updating the sales file I was getting some error \"set object is not JSON serializable\", I was trying to remove that error but the deadline was close so I removed that functionality.\n",
        "Also, All 5 transaction shown in the sales file, I have done throw this code."
      ]
    },
    {
      "cell_type": "code",
      "metadata": {
        "id": "M60wRL7Ha1GN"
      },
      "source": [
        "print(\"******************\")\n",
        "print(\"Welcome to Laptop Hub\")\n",
        "print(\"******************\")\n",
        "name=str(input(\"Please enter your name: \"))\n",
        "print(\"Here are the products that we have\")\n",
        "for i in record:\n",
        "  print(\"Product ID\",i,\":\",record[str(i)][\"Name\"],\"|Quantity-\",record[str(i)][\"Quantity\"],\"|Price-\",record[str(i)][\"Price\"],\"|Processor-\",record[str(i)][\"Processor\"]\n",
        "        ,\"| RAM- \",record[str(i)][\"RAM(in GB)\"],\"| Storage-\",record[str(i)][\"Storage(in GB)\"])\n",
        "print(\"Would you like to order any laptop\")\n",
        "print(\"Y/N\")\n",
        "ans=str(input())\n",
        "if(ans==\"y\" or ans==\"Y\"):\n",
        "  print(\"Enter the product ID: \")\n",
        "  n=int(input())\n",
        "  if str(n) in record:\n",
        "    pass\n",
        "  else:\n",
        "    print(\"Please enter a Valid Product ID.\",i,\"is not available\")\n",
        "else:\n",
        "  print(\"Have A Nice Day. See You Soon!!\")\n",
        "bill=0\n",
        "from datetime import datetime\n",
        "now = datetime.now()\n",
        "dt_string = now.strftime(\"%d/%m/%Y %H:%M:%S\")\n",
        "quan=int(input(\"Enter the quantity for \"+record[str(n)][\"Name\"]+\": \"))\n",
        "if(quan>record[str(i)][\"Quantity\"]):\n",
        "  print(\"Only\",record[str(i)][\"Quantity\"],\"are available.\")\n",
        "  exit()\n",
        "else:\n",
        "  bill=bill+record[str(n)][\"Price\"]*quan\n",
        "  record[str(n)][\"Quantity\"]=record[str(n)][\"Quantity\"]-quan\n",
        "  string=name+\" purchased \"+str(quan)+\" \"+record[str(n)][\"Name\"]\n",
        "  sales[dt_string]=string\n",
        "if(bill>100000):\n",
        "  print(\"*******************\")\n",
        "  print(\"Congratulaions!! For shopping of more than Rs 100000, You will be getting additional doscount of 10%\")\n",
        "  print(\"Your final Bill is :\",bill-(bill/10))\n",
        "  print(\"*******************\")\n",
        "else:\n",
        "  print(\"*******************\")\n",
        "  print(\"Your final Bill is :\",bill)\n",
        "  print(\"*******************\")\n",
        "fd=open(\"record.json\",\"w\")\n",
        "updated_records=json.dumps(record)\n",
        "fd.write(updated_records)\n",
        "fd1=open(\"sales.json\",\"w\")\n",
        "updated_sales=json.dumps(sales)\n",
        "fd1.write(updated_sales)\n",
        "fd.close()\n",
        "fd1.close()\n"
      ],
      "execution_count": null,
      "outputs": []
    }
  ]
}