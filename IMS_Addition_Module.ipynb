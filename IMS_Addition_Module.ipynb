{
  "nbformat": 4,
  "nbformat_minor": 0,
  "metadata": {
    "colab": {
      "name": "IMS Addition Module.ipynb",
      "provenance": [],
      "collapsed_sections": [],
      "authorship_tag": "ABX9TyNIq4xRVA4qZ5dGqGD6vkKM",
      "include_colab_link": true
    },
    "kernelspec": {
      "name": "python3",
      "display_name": "Python 3"
    },
    "language_info": {
      "name": "python"
    }
  },
  "cells": [
    {
      "cell_type": "markdown",
      "metadata": {
        "id": "view-in-github",
        "colab_type": "text"
      },
      "source": [
        "<a href=\"https://colab.research.google.com/github/Vinayak899/Inventory-Management-System-ETG/blob/main/IMS_Addition_Module.ipynb\" target=\"_parent\"><img src=\"https://colab.research.google.com/assets/colab-badge.svg\" alt=\"Open In Colab\"/></a>"
      ]
    },
    {
      "cell_type": "code",
      "metadata": {
        "colab": {
          "base_uri": "https://localhost:8080/"
        },
        "id": "ip6CP51IOoRj",
        "outputId": "aa7cc193-3c5d-41a0-9014-10b58b775e26"
      },
      "source": [
        "import json \n",
        "pc=open(\"record.json\",\"r\")\n",
        "r=pc.read()\n",
        "record=json.loads(r)\n",
        "pc.close()"
      ],
      "execution_count": null,
      "outputs": [
        {
          "output_type": "execute_result",
          "data": {
            "text/plain": [
              "9"
            ]
          },
          "metadata": {},
          "execution_count": 10
        }
      ]
    },
    {
      "cell_type": "code",
      "metadata": {
        "id": "aDqv5AzJOEhS"
      },
      "source": [
        "print(\"Welcome to Addition and Updation Module\")\n",
        "print(\"1. Update any current product's Quantity\")\n",
        "print(\"2. Add a new product\")\n",
        "n=int(input())\n",
        "if(n==1):\n",
        "  print(\"Enter the product ID you want to update: \")\n",
        "  product_ID=str(input())\n",
        "  print(\"Enter the quantity you want to add to the current quantity: \")\n",
        "  quantity=int(input())\n",
        "  record[product_ID][\"Quantity\"]=record[product_ID][\"Quantity\"]+quantity\n",
        "  print(\"Quantity has been updated!!\")\n",
        "elif(n==2):\n",
        "  print(\"Enter the product ID which is not present earlier: \")\n",
        "  new_productID=str(input())\n",
        "  print(\"Enter the product Name: \")\n",
        "  new_name=str(input())\n",
        "  print(\"Enter the product Quantity: \")\n",
        "  new_quan=input()\n",
        "  print(\"Enter the product Price: \")\n",
        "  new_price=input()\n",
        "  print(\"Enter the product Processor: \")\n",
        "  new_processor=str(input())\n",
        "  print(\"Enter the product RAM(in GB): \")\n",
        "  new_RAM=input()\n",
        "  print(\"Enter the product Storage(in GB): \")\n",
        "  new_storage=input()\n",
        "  record[new_productID]={\"Name\":new_name,\"Quantity\":new_quan,\"Price\":new_price\n",
        "                         ,\"Processor\":new_price,\"Processor\":new_processor,\"RAM(in GB)\":new_RAM,\"Storage(in GB)\":new_storage}\n",
        "print(record)\n",
        "fd=open(\"record.json\",\"w\")\n",
        "updated_records=json.dumps(record)\n",
        "fd.write(updated_records)\n",
        "fd.close()\n"
      ],
      "execution_count": null,
      "outputs": []
    }
  ]
}